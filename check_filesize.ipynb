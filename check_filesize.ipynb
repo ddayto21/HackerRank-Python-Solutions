{
 "cells": [
  {
   "cell_type": "code",
   "execution_count": 1,
   "metadata": {},
   "outputs": [],
   "source": [
    "import math\n",
    "import numpy as np"
   ]
  },
  {
   "cell_type": "code",
   "execution_count": 3,
   "metadata": {},
   "outputs": [],
   "source": [
    "class Points(object):\n",
    "    def __init__(self, x, y, z):\n",
    "        print(\"Initializing object... \")\n",
    "        print(\"x: \", x)\n",
    "        print(\"y: \", y)\n",
    "        print(\"z: \", z)\n",
    "        self.x = x\n",
    "        self.y = y\n",
    "        self.z = z\n",
    "        print(\"self: \", self.__dict__)\n",
    "        \n",
    "    def __sub__(self, no):\n",
    "        print(\"__sub__ method\")\n",
    "        print(\"self: \", self.__dict__) # self:  {'x': 1.0, 'y': 7.0, 'z': 6.0}\n",
    "        print(\"no: \", no.__dict__) # no: {'x': 0.0, 'y': 4.0, 'z': 5.0}           \n",
    "\n",
    "    def dot(self, no):\n",
    "        print(\"---- Dot Product ---- \")\n",
    "        print(\"self: \", self.__dict__)\n",
    "        print(\"no: \", no)\n",
    "\n",
    "    def cross(self, no):\n",
    "        print(\"--- CROSS PRODUCT ---\")\n",
    "        print(\"self: \", self.__dict__)\n",
    "        print(\"no: \", no)\n",
    "         # FUNCTION --> numpy.cross(a, b)\n",
    "            # a: first vector\n",
    "            # b: second vector\n",
    "        a = [self.x, self.y, self.z]\n",
    "        b = [no['x'], no['y'], no['z']]\n",
    "        print(\"Vector a: \", a)\n",
    "        print(\"Vector b: \", b)\n",
    "        cross_product = np.cross(a,b)\n",
    "        return cross_product\n",
    "                \n",
    "            \n",
    "    def absolute(self):\n",
    "        print(\"--- MAGNITUDE ----\")\n",
    "        print(\"self: \", self.__dict__)\n",
    "        return pow((self.x ** 2 + self.y ** 2 + self.z ** 2), 0.5)"
   ]
  },
  {
   "cell_type": "code",
   "execution_count": 5,
   "metadata": {},
   "outputs": [
    {
     "name": "stdout",
     "output_type": "stream",
     "text": [
      " Enter 3D Coordinates for Point 0:\n",
      " Enter 3D Coordinates for Point 1:\n",
      " Enter 3D Coordinates for Point 2:\n",
      " Enter 3D Coordinates for Point 3:\n",
      "points: [[0.0, 4.0, 5.0], [1.0, 7.0, 6.0], [0.0, 5.0, 9.0], [1.0, 7.0, 2.0]]\n",
      "Initializing object... \n",
      "x:  0.0\n",
      "y:  4.0\n",
      "z:  5.0\n",
      "self:  {'x': 0.0, 'y': 4.0, 'z': 5.0}\n",
      "Initializing object... \n",
      "x:  1.0\n",
      "y:  7.0\n",
      "z:  6.0\n",
      "self:  {'x': 1.0, 'y': 7.0, 'z': 6.0}\n",
      "Initializing object... \n",
      "x:  0.0\n",
      "y:  5.0\n",
      "z:  9.0\n",
      "self:  {'x': 0.0, 'y': 5.0, 'z': 9.0}\n",
      "Initializing object... \n",
      "x:  1.0\n",
      "y:  7.0\n",
      "z:  2.0\n",
      "self:  {'x': 1.0, 'y': 7.0, 'z': 2.0}\n",
      "a: {'x': 0.0, 'y': 4.0, 'z': 5.0}\n",
      "b: {'x': 1.0, 'y': 7.0, 'z': 6.0}\n",
      "c: {'x': 0.0, 'y': 5.0, 'z': 9.0}\n",
      "d: {'x': 1.0, 'y': 7.0, 'z': 2.0}\n",
      "__sub__ method\n",
      "self:  {'x': 1.0, 'y': 7.0, 'z': 6.0}\n",
      "no:  {'x': 0.0, 'y': 4.0, 'z': 5.0}\n"
     ]
    },
    {
     "ename": "AttributeError",
     "evalue": "'NoneType' object has no attribute 'cross'",
     "output_type": "error",
     "traceback": [
      "\u001b[0;31m---------------------------------------------------------------------------\u001b[0m",
      "\u001b[0;31mAttributeError\u001b[0m                            Traceback (most recent call last)",
      "\u001b[1;32m/Users/danieldayto/Coding/algorithms/torc/hackerrank/HackerRank-Solutions/check_filesize.ipynb Cell 3'\u001b[0m in \u001b[0;36m<cell line: 16>\u001b[0;34m()\u001b[0m\n\u001b[1;32m     <a href='vscode-notebook-cell:/Users/danieldayto/Coding/algorithms/torc/hackerrank/HackerRank-Solutions/check_filesize.ipynb#ch0000005?line=12'>13</a>\u001b[0m \u001b[39mprint\u001b[39m(\u001b[39mf\u001b[39m\u001b[39m\"\u001b[39m\u001b[39md: \u001b[39m\u001b[39m{\u001b[39;00md\u001b[39m.\u001b[39m\u001b[39m__dict__\u001b[39m\u001b[39m}\u001b[39;00m\u001b[39m\"\u001b[39m) \u001b[39m# d: {'x': 1.0, 'y': 7.0, 'z': 2.0}\u001b[39;00m\n\u001b[1;32m     <a href='vscode-notebook-cell:/Users/danieldayto/Coding/algorithms/torc/hackerrank/HackerRank-Solutions/check_filesize.ipynb#ch0000005?line=13'>14</a>\u001b[0m \u001b[39m# x = (b - a).cross(c - b)\u001b[39;00m\n\u001b[1;32m     <a href='vscode-notebook-cell:/Users/danieldayto/Coding/algorithms/torc/hackerrank/HackerRank-Solutions/check_filesize.ipynb#ch0000005?line=14'>15</a>\u001b[0m \u001b[39m# x = (b-a).cross(c-b)\u001b[39;00m\n\u001b[0;32m---> <a href='vscode-notebook-cell:/Users/danieldayto/Coding/algorithms/torc/hackerrank/HackerRank-Solutions/check_filesize.ipynb#ch0000005?line=15'>16</a>\u001b[0m x \u001b[39m=\u001b[39m (b \u001b[39m-\u001b[39;49m a)\u001b[39m.\u001b[39;49mcross(c \u001b[39m-\u001b[39m b)\n\u001b[1;32m     <a href='vscode-notebook-cell:/Users/danieldayto/Coding/algorithms/torc/hackerrank/HackerRank-Solutions/check_filesize.ipynb#ch0000005?line=16'>17</a>\u001b[0m \u001b[39mprint\u001b[39m(x)\n",
      "\u001b[0;31mAttributeError\u001b[0m: 'NoneType' object has no attribute 'cross'"
     ]
    }
   ],
   "source": [
    "points = list()\n",
    "for i in range(4):\n",
    "    print(f\" Enter 3D Coordinates for Point {i}:\")\n",
    "    a = list(map(float, input().split()))\n",
    "    points.append(a)\n",
    "print(f\"points: {points}\") \n",
    "# points: [[0.0, 4.0, 5.0], [1.0, 7.0, 6.0], [0.0, 5.0, 9.0], [1.0, 7.0, 2.0]]\n",
    "\n",
    "a, b, c, d = Points(*points[0]), Points(*points[1]), Points(*points[2]), Points(*points[3])\n",
    "print(f\"a: {a.__dict__}\") # a: {'x': 0.0, 'y': 4.0, 'z': 5.0}\n",
    "print(f\"b: {b.__dict__}\") # b: {'x': 1.0, 'y': 7.0, 'z': 6.0}\n",
    "print(f\"c: {c.__dict__}\") # c: {'x': 0.0, 'y': 5.0, 'z': 9.0}\n",
    "print(f\"d: {d.__dict__}\") # d: {'x': 1.0, 'y': 7.0, 'z': 2.0}\n",
    "# x = (b - a).cross(c - b)\n",
    "# x = (b-a).cross(c-b)\n",
    "x = (b - a).cross(c - b)\n",
    "print(x)"
   ]
  }
 ],
 "metadata": {
  "kernelspec": {
   "display_name": "Python 3.9 (tensorflow)",
   "language": "python",
   "name": "tensorflow"
  },
  "language_info": {
   "codemirror_mode": {
    "name": "ipython",
    "version": 3
   },
   "file_extension": ".py",
   "mimetype": "text/x-python",
   "name": "python",
   "nbconvert_exporter": "python",
   "pygments_lexer": "ipython3",
   "version": "3.9.12"
  },
  "vscode": {
   "interpreter": {
    "hash": "ab63973b6d3293e006abb6359631ad5f1c1125bca667b97fab34d9965b63f397"
   }
  }
 },
 "nbformat": 4,
 "nbformat_minor": 2
}
