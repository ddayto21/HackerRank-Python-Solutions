{
 "cells": [
  {
   "cell_type": "code",
   "execution_count": 13,
   "metadata": {},
   "outputs": [
    {
     "name": "stdout",
     "output_type": "stream",
     "text": [
      "Woof!\n",
      "Piper 5 9.5\n",
      "Aroooo\n",
      "Chloe 5 10\n",
      "Aroooo\n"
     ]
    }
   ],
   "source": [
    "class Dog:\n",
    "    def __init__(self, name, age, friendliness):\n",
    "        self.name = name\n",
    "        self.age = age\n",
    "        self.friendliness = friendliness\n",
    "    \n",
    "    def likes_walks(self):\n",
    "        return True\n",
    "    \n",
    "    def bark(self):\n",
    "        return 'Woof!'\n",
    "\n",
    "# Inheritance - Add Parent Class in Class Definition\n",
    "# super() - Parent Class\n",
    "class Samyoed(Dog):\n",
    "  def __init__(self, name, age, friendliness):\n",
    "    super().__init__(name, age, friendliness) # Calls initialization function in the parent class\n",
    "\n",
    "\n",
    "    def bark(self):\n",
    "        return 'Arf Arf!'\n",
    "\n",
    "class Poodle(Dog):\n",
    "    def __init__(self, name, age, friendliness):\n",
    "        super().__init__(self, name, age, friendliness) # Calls initialization function in the parent class\n",
    "\n",
    "class GoldenRetriever(Dog):\n",
    "    def __init__(self, name, age, friendliness):\n",
    "        super().__init__(name, age, friendliness) # Calls initialization function in the parent class\n",
    "\n",
    "# poodle = Poodle('Poodini', 5, 10)\n",
    "sammy = Samyoed('Sammy', 2, 10)\n",
    "# print(sammy.name, sammy.age, sammy.friendliness)\n",
    "print(sammy.bark())\n",
    "class BlackLab(Dog):\n",
    "    def __init__(self, name, age, friendliness):\n",
    "        super().__init__(name, age, friendliness)\n",
    "\n",
    "class BlackRetriever(BlackLab, GoldenRetriever):\n",
    "    def __init__(self, name, age, friendliness):\n",
    "        super().__init__(name, age,friendliness)\n",
    "    def bark(self):\n",
    "        return 'Aroooo'\n",
    "\n",
    "# Create New Objects\n",
    "Piper = BlackRetriever('Piper', 5, 9.5)\n",
    "Chloe = BlackRetriever('Chloe', 5, 10)\n",
    "print(Piper.name, Piper.age, Piper.friendliness) \n",
    "print(Piper.bark())\n",
    "print(Chloe.name, Chloe.age, Chloe.friendliness)\n",
    "print(Chloe.bark())\n",
    "\n",
    "\n"
   ]
  },
  {
   "cell_type": "code",
   "execution_count": null,
   "metadata": {},
   "outputs": [],
   "source": []
  }
 ],
 "metadata": {
  "kernelspec": {
   "display_name": "Python 3.9.12 ('macos')",
   "language": "python",
   "name": "python3"
  },
  "language_info": {
   "codemirror_mode": {
    "name": "ipython",
    "version": 3
   },
   "file_extension": ".py",
   "mimetype": "text/x-python",
   "name": "python",
   "nbconvert_exporter": "python",
   "pygments_lexer": "ipython3",
   "version": "3.9.12"
  },
  "orig_nbformat": 4,
  "vscode": {
   "interpreter": {
    "hash": "22608493959378f606de73a65fea1c2a2865a76055a64344b8428e775cc448e8"
   }
  }
 },
 "nbformat": 4,
 "nbformat_minor": 2
}
