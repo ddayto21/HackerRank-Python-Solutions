{
 "cells": [
  {
   "cell_type": "code",
   "execution_count": null,
   "metadata": {},
   "outputs": [],
   "source": [
    "# Example of Inheritance in Python\n",
    "class Polygon:\n",
    "    def __init__(self, no_of_sides):\n",
    "        self.n = no_of_sides\n",
    "        self.sides = [0 for i in range(no_of_sides)]\n",
    "    def inputSides(self):\n",
    "        self.sides = [float(input(\"Enter side \"+str(i+1)+\" : \")) for i in range(self.n)]\n",
    "\n",
    "    def dispSides(self):\n",
    "        for i in range(self.n):\n",
    "            print(\"Side\",i+1,\"is\",self.sides[i])\n",
    "\n",
    "# === Data Attributes  === #\n",
    "# n - number of sides\n",
    "# sides = magnitude of each side\n",
    "\n",
    "# === METHODS === #\n",
    "# inputSides() - takes input magnitude (length) of each side\n",
    "# dispSides() - displays magnitude (length) of each side\n"
   ]
  },
  {
   "cell_type": "markdown",
   "metadata": {},
   "source": [
    "Inheritance allows us to create new classes (child class) that inherit all the attributes and methods from another class\n",
    "\n",
    "Inheritance Syntax:\n",
    "class BaseClass:\n",
    "  Body of base class\n",
    "class DerivedClass(BaseClass):\n",
    "  Body of derived class"
   ]
  },
  {
   "cell_type": "code",
   "execution_count": null,
   "metadata": {},
   "outputs": [
    {
     "ename": "",
     "evalue": "",
     "output_type": "error",
     "traceback": [
      "\u001b[1;31mRunning cells with 'Python 3.10.2 64-bit' requires ipykernel package.\n",
      "Run the following command to install 'ipykernel' into the Python environment. \n",
      "Command: '/usr/local/bin/python3.10 -m pip install ipykernel -U --user --force-reinstall'"
     ]
    }
   ],
   "source": [
    "class Person:\n",
    "    def __init__(self, fname, lname):\n",
    "        self.firstName = fname\n",
    "        self.lastName = lname\n",
    "    def printname(self):\n",
    "        print(f\"My name is: {self.firstName} {self.lastName} \")\n",
    "\n",
    "person = Person(\"Obi Wan\", \"Kenobi\")\n",
    "person.printname()"
   ]
  },
  {
   "cell_type": "code",
   "execution_count": null,
   "metadata": {},
   "outputs": [],
   "source": [
    "class Triangle(Polygon):\n",
    "    def __init__(self):\n",
    "        Polygon.__init__(self, 3)\n",
    "    def findArea(self):\n",
    "        a, b, c = self.sides\n",
    "        s = (a + b + c) / 2\n",
    "        area = (s*(s-a)*(s-b)*(s-c)) ** 0.5\n",
    "        print(\"The area of the triangle is %0.2f\" %area)"
   ]
  }
 ],
 "metadata": {
  "kernelspec": {
   "display_name": "Python 3.9.0 ('tensorflow_m1')",
   "language": "python",
   "name": "python3"
  },
  "language_info": {
   "name": "python",
   "version": "3.9.0"
  },
  "orig_nbformat": 4,
  "vscode": {
   "interpreter": {
    "hash": "6cda60cff8d67cf10b4c2a33fafc9942558b0b5167f5378af9b1316837848ff1"
   }
  }
 },
 "nbformat": 4,
 "nbformat_minor": 2
}
