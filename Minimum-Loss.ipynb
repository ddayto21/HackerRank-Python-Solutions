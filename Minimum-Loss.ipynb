{
 "cells": [
  {
   "cell_type": "code",
   "execution_count": null,
   "metadata": {},
   "outputs": [],
   "source": [
    "#!/bin/python3\n",
    "\n",
    "import math\n",
    "import os\n",
    "import random\n",
    "import re\n",
    "import sys  \n",
    "\n",
    "def minimumLoss(price):\n",
    "    print(\"Prices: \", price)\n",
    "    # Generate every combination of two prices (price[i], price[j]) where:\n",
    "    # (1) i > j\n",
    "    min_loss = float('inf')\n",
    "    for i in range(len(price)-1):\n",
    "        for j in range(i+1, len(price)):\n",
    "            prices = (price[i], price[j])\n",
    "            print(\"Prices: \", prices)\n",
    "            curr_loss = prices[0] - prices[1]\n",
    "            print(\"Loss: \", curr_loss)\n",
    "            if curr_loss > 0: min_loss = min(min_loss, curr_loss) # Update Minimum Loss Value if Current Loss is Less than Minimum Loss value\n",
    "    return min_loss   \n",
    "\n",
    "if __name__ == '__main__':\n",
    "    fptr = open(os.environ['OUTPUT_PATH'], 'w')\n",
    "\n",
    "    n = int(input().strip())\n",
    "\n",
    "    price = list(map(int, input().rstrip().split()))\n",
    "\n",
    "    result = minimumLoss(price)\n",
    "\n",
    "    fptr.write(str(result) + '\\n')\n",
    "\n",
    "    fptr.close()\n"
   ]
  },
  {
   "cell_type": "markdown",
   "metadata": {},
   "source": [
    "# PROBLEM: Given an array of prices, return the minimum loss\n",
    "# ===== EXAMPLE ===== #\n",
    "- price = [20, 15, 8, 2, 12]\n",
    "    \n",
    "# ==== APPROACH ===== #\n",
    "# Step 1: Generate every possible combination of two prices\n",
    "- prices = (price[i], price[j]) where i<j\n",
    "\n",
    "# Step 2: Calculate loss_value for each pair \n",
    "- curr_loss = prices[0] - prices[1]\n",
    "\n",
    "# Step 3: (3) Compare each loss_value to minimum_loss\n",
    "- min(curr_loss, min_loss)"
   ]
  }
 ],
 "metadata": {
  "language_info": {
   "name": "python"
  },
  "orig_nbformat": 4
 },
 "nbformat": 4,
 "nbformat_minor": 2
}
