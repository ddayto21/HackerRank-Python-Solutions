{
 "cells": [
  {
   "cell_type": "code",
   "execution_count": null,
   "metadata": {},
   "outputs": [],
   "source": [
    "#!/bin/python3\n",
    "\n",
    "import math\n",
    "import os\n",
    "import random\n",
    "import re\n",
    "import sys\n",
    "\n",
    "# PROBLEM: Given an array of integers (arr) and a target value (k) determine the number of pairs of array elements that have a difference equal to target value\n",
    "# https://www.hackerrank.com/challenges/pairs/problem?isFullScreen=true\n",
    "    # == EXAMPLE === #\n",
    "    # k = 1\n",
    "    # arr = [1,2,3,4]\n",
    "    # ---> (2,1), (3,2), (4,3) = 3 Pairs\n",
    "# APPROACH:\n",
    "# STEP 1: Generate every combination of pairs (i,j) in the array\n",
    "# STEP 2: Calculate the difference between i and j\n",
    "# STEP 3: If the difference equals equals the target value, increment count by 1\n",
    "\n",
    "def pairs(k, arr):\n",
    "    count = 0\n",
    "    for i in range(len(arr)):\n",
    "        for j in range(i+1, len(arr)):\n",
    "            pair = (arr[i], arr[j])\n",
    "            # print(\"Pair: \", pair)\n",
    "            if (pair[0] - pair[1] == k) or (pair[1] - pair[0] == k):\n",
    "                count += 1\n",
    "    return count\n",
    "\n",
    "if __name__ == '__main__':\n",
    "    fptr = open(os.environ['OUTPUT_PATH'], 'w')\n",
    "\n",
    "    first_multiple_input = input().rstrip().split()\n",
    "\n",
    "    n = int(first_multiple_input[0])\n",
    "\n",
    "    k = int(first_multiple_input[1])\n",
    "\n",
    "    arr = list(map(int, input().rstrip().split()))\n",
    "\n",
    "    result = pairs(k, arr)\n",
    "\n",
    "    fptr.write(str(result) + '\\n')\n",
    "\n",
    "    fptr.close()\n"
   ]
  }
 ],
 "metadata": {
  "language_info": {
   "name": "python"
  },
  "orig_nbformat": 4
 },
 "nbformat": 4,
 "nbformat_minor": 2
}
