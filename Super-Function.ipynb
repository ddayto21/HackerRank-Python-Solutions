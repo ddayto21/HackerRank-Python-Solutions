{
 "cells": [
  {
   "cell_type": "code",
   "execution_count": null,
   "metadata": {},
   "outputs": [],
   "source": [
    "class Person:\n",
    "    def __init__(self, fname, lname):\n",
    "        self.firstName = fname\n",
    "        self.lastName = lname\n",
    "    def printname(self):\n",
    "        print(f\"My name is: {self.firstName} {self.lastName} \")\n",
    "\n",
    "person = Person(\"Obi Wan\", \"Kenobi\")\n",
    "person.printname()\n",
    "\n",
    "# Example of Super() Function\n",
    "class Student(Person):\n",
    "    def __init__(self, fname, lname):\n",
    "        super().__init__(fname, lname)"
   ]
  },
  {
   "cell_type": "markdown",
   "metadata": {},
   "source": [
    "Super() Function\n",
    "- Python has a super() function that will make the child class inherit all the methods and properties from its parent:"
   ]
  }
 ],
 "metadata": {
  "kernelspec": {
   "display_name": "Python 3.10.2 64-bit",
   "language": "python",
   "name": "python3"
  },
  "language_info": {
   "name": "python",
   "version": "3.10.2"
  },
  "orig_nbformat": 4,
  "vscode": {
   "interpreter": {
    "hash": "7e1998ff7f8aa20ada591c520b972326324e5ea05489af9e422744c7c09f6dad"
   }
  }
 },
 "nbformat": 4,
 "nbformat_minor": 2
}
