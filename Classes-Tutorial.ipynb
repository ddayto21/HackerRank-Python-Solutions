{
 "cells": [
  {
   "cell_type": "code",
   "execution_count": null,
   "metadata": {},
   "outputs": [],
   "source": [
    "class Animal(object):\n",
    "    def __init__(self, name):\n",
    "        self.name = name\n",
    "        print(\"Animal created: \", self.name)\n",
    "        \n",
    "    def speak(self):\n",
    "        print(\"Hey, my name is: \", self.name)\n",
    "\n",
    "class Deer(Animal):\n",
    "    def __init__(self, name):\n",
    "        super().__init__(name)\n",
    "        print(\"Deer created: \", self.name)\n",
    "        \n",
    "    def speak(self):\n",
    "        print(\"I am a deer, my name is: \", self.name)\n",
    "\n",
    "class Lion(Animal):\n",
    "    def __init__(self, name):\n",
    "        super().__init__(name)\n",
    "        print(\"Lion created: \", self.name)"
   ]
  },
  {
   "cell_type": "markdown",
   "metadata": {},
   "source": [
    "Problem: Given an Class, make a two SubClasses \n"
   ]
  }
 ],
 "metadata": {
  "kernelspec": {
   "display_name": "Python 3.10.2 64-bit",
   "language": "python",
   "name": "python3"
  },
  "language_info": {
   "name": "python",
   "version": "3.10.2"
  },
  "orig_nbformat": 4,
  "vscode": {
   "interpreter": {
    "hash": "7e1998ff7f8aa20ada591c520b972326324e5ea05489af9e422744c7c09f6dad"
   }
  }
 },
 "nbformat": 4,
 "nbformat_minor": 2
}
