{
 "cells": [
  {
   "cell_type": "code",
   "execution_count": null,
   "metadata": {},
   "outputs": [],
   "source": [
    "class Animal(object):\n",
    "    def __init__(self, name):\n",
    "        self.name = name\n",
    "        print(\"Animal created: \", self.name)\n",
    "        \n",
    "    def speak(self):\n",
    "        print(\"Hey, my name is: \", self.name)\n",
    "\n",
    "class Deer(Animal):\n",
    "    def __init__(self, name):\n",
    "        super().__init__(name)\n",
    "        print(\"Deer created: \", self.name)\n",
    "        \n",
    "    def speak(self):\n",
    "        print(\"I am a deer, my name is: \", self.name)\n",
    "\n",
    "class Lion(Animal):\n",
    "    def __init__(self, name):\n",
    "        super().__init__(name)\n",
    "        print(\"Lion created: \", self.name)"
   ]
  },
  {
   "cell_type": "markdown",
   "metadata": {},
   "source": [
    "Problem: Given an Class, make a two SubClasses \n"
   ]
  }
 ],
 "metadata": {
  "language_info": {
   "name": "python"
  },
  "orig_nbformat": 4
 },
 "nbformat": 4,
 "nbformat_minor": 2
}
