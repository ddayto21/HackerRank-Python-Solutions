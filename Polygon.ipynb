{
 "cells": [
  {
   "cell_type": "code",
   "execution_count": 3,
   "metadata": {},
   "outputs": [
    {
     "name": "stdout",
     "output_type": "stream",
     "text": [
      "Side 1 is 3.0\n",
      "Side 2 is 4.0\n",
      "Side 3 is 5.0\n"
     ]
    }
   ],
   "source": [
    "class Polygon(object):\n",
    "    def __init__(self, no_of_sides):\n",
    "        self.n = no_of_sides\n",
    "        self.sides = [0 for i in range(no_of_sides)]\n",
    "    \n",
    "    def inputSides(self):\n",
    "        self.sides = [float(input(\"Enter side \"+str(i+1)+\" : \")) for i in range(self.n)]\n",
    "    \n",
    "    def displaySides(self):\n",
    "        for i in range(self.n):\n",
    "            print(\"Side\",i+1,\"is\",self.sides[i])\n",
    "\n",
    "Triangle = Polygon(3)\n",
    "Triangle.inputSides()\n",
    "Triangle.displaySides()"
   ]
  },
  {
   "cell_type": "markdown",
   "metadata": {},
   "source": [
    "PROBLEM: Define a Polygon class that has data attributes to store th enumber of sides 'n' and magnitude of each side"
   ]
  },
  {
   "cell_type": "code",
   "execution_count": 4,
   "metadata": {},
   "outputs": [
    {
     "name": "stdout",
     "output_type": "stream",
     "text": [
      "Side 1 is 3.0\n",
      "Side 2 is 5.0\n",
      "Side 3 is 4.0\n",
      "The area of the triangle is 6.00\n"
     ]
    }
   ],
   "source": [
    "# Define a Triangle class that uses the Polygon class you created in the previous exercise.\n",
    "class Triangle(Polygon):\n",
    "    def __init__(self):\n",
    "        Polygon.__init__(self, 3)\n",
    "    \n",
    "    def findArea(self):\n",
    "        a, b, c = self.sides\n",
    "        s = (a+b+c)/2\n",
    "        area = (s*(s-a)*(s-b)*(s-c))**0.5\n",
    "        print(\"The area of the triangle is %0.2f\" %area)\n",
    "\n",
    "t = Triangle()\n",
    "t.inputSides()\n",
    "t.displaySides()\n",
    "t.findArea()\n",
    "    \n"
   ]
  }
 ],
 "metadata": {
  "kernelspec": {
   "display_name": "Python 3.9.12 ('macos')",
   "language": "python",
   "name": "python3"
  },
  "language_info": {
   "codemirror_mode": {
    "name": "ipython",
    "version": 3
   },
   "file_extension": ".py",
   "mimetype": "text/x-python",
   "name": "python",
   "nbconvert_exporter": "python",
   "pygments_lexer": "ipython3",
   "version": "3.9.12"
  },
  "orig_nbformat": 4,
  "vscode": {
   "interpreter": {
    "hash": "22608493959378f606de73a65fea1c2a2865a76055a64344b8428e775cc448e8"
   }
  }
 },
 "nbformat": 4,
 "nbformat_minor": 2
}
